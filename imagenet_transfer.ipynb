{
 "cells": [
  {
   "metadata": {},
   "cell_type": "code",
   "source": [
    "import os\n",
    "\n",
    "os.environ[\"KERAS_BACKEND\"] = \"torch\"\n",
    "import keras\n",
    "from keras import layers\n",
    "\n",
    "IMAGE_SIZE = (224, 224)\n",
    "BATCH_SIZE = 64"
   ],
   "id": "4e6e578da9e431af",
   "outputs": [],
   "execution_count": null
  },
  {
   "metadata": {},
   "cell_type": "code",
   "source": [
    "_data_dir = os.path.join(\"data\", \"fish_lizard_monkey_snake\", \"images\")\n",
    "TRAIN_DS, VAL_DS = keras.utils.image_dataset_from_directory(\n",
    "    _data_dir,\n",
    "    labels=\"inferred\",\n",
    "    label_mode=\"categorical\",\n",
    "    color_mode=\"rgb\",\n",
    "    batch_size=BATCH_SIZE,\n",
    "    image_size=IMAGE_SIZE,\n",
    "    shuffle=True,\n",
    "    interpolation=\"bilinear\",\n",
    "    pad_to_aspect_ratio=True,\n",
    "    validation_split=0.2,\n",
    "    subset=\"both\",\n",
    "    seed=42,\n",
    ")"
   ],
   "id": "24c4be23a5386f37",
   "outputs": [],
   "execution_count": null
  },
  {
   "metadata": {},
   "cell_type": "code",
   "source": [
    "early_stop_cb = keras.callbacks.EarlyStopping(\n",
    "    min_delta=0.015,\n",
    "    monitor=\"val_accuracy\",\n",
    "    mode=\"max\",\n",
    "    patience=8,\n",
    "    restore_best_weights=True,\n",
    "    verbose=1,\n",
    ")\n",
    "checkpointing_cb = keras.callbacks.ModelCheckpoint(\n",
    "    \"bird_dog_classifier.keras\",\n",
    "    monitor=\"val_accuracy\",\n",
    "    mode=\"max\",\n",
    "    verbose=1,\n",
    "    save_best_only=True,\n",
    "    save_weights_only=False,\n",
    "    save_freq=\"epoch\",\n",
    "    initial_value_threshold=None,\n",
    ")\n",
    "lr_cb = keras.callbacks.ReduceLROnPlateau(\n",
    "    min_delta=0.015,\n",
    "    monitor=\"val_accuracy\",\n",
    "    mode=\"max\",\n",
    "    patience=6,\n",
    "    factor=0.5,\n",
    "    min_lr=0.00001,\n",
    "    verbose=1,\n",
    ")\n",
    "METRICS = [\n",
    "    keras.metrics.Precision(name=\"precision\"),\n",
    "    keras.metrics.Recall(name=\"recall\"),\n",
    "    keras.metrics.F1Score(name=\"f1\"),\n",
    "    keras.metrics.CategoricalAccuracy(name=\"accuracy\"),\n",
    "]"
   ],
   "id": "4b21b67cdb7cf181",
   "outputs": [],
   "execution_count": null
  },
  {
   "cell_type": "code",
   "id": "initial_id",
   "metadata": {
    "collapsed": true
   },
   "source": [
    "# Load model and remove last layer\n",
    "transfer_model = keras.models.load_model(\"bird_dog_classifier.keras\")\n",
    "transfer_model.pop()\n",
    "\n",
    "# Add new output layer\n",
    "new_layer = layers.Dense(4, name=\"new_output_v01\")\n",
    "transfer_model.add(new_layer)\n",
    "\n",
    "# Freeze all layers except the last one\n",
    "for layer in transfer_model.layers[:-1]:  # Skip the last layer\n",
    "    layer.trainable = False\n",
    "\n",
    "transfer_model.summary()\n",
    "\n",
    "transfer_model.compile(\n",
    "    optimizer=keras.optimizers.Adam(0.001),\n",
    "    loss=keras.losses.CategoricalCrossentropy(from_logits=True),\n",
    "    metrics=METRICS,\n",
    ")\n",
    "\n",
    "transfer_history = transfer_model.fit(\n",
    "    TRAIN_DS,\n",
    "    validation_data=VAL_DS,\n",
    "    epochs=50,\n",
    "    callbacks=[early_stop_cb, checkpointing_cb, lr_cb],\n",
    ")"
   ],
   "outputs": [],
   "execution_count": null
  }
 ],
 "metadata": {
  "kernelspec": {
   "display_name": "Python 3",
   "language": "python",
   "name": "python3"
  },
  "language_info": {
   "codemirror_mode": {
    "name": "ipython",
    "version": 2
   },
   "file_extension": ".py",
   "mimetype": "text/x-python",
   "name": "python",
   "nbconvert_exporter": "python",
   "pygments_lexer": "ipython2",
   "version": "2.7.6"
  }
 },
 "nbformat": 4,
 "nbformat_minor": 5
}
