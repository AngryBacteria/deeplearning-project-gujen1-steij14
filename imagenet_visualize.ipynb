{
 "cells": [
  {
   "metadata": {},
   "cell_type": "markdown",
   "source": "Load Localisation Data",
   "id": "a26eaebe41298095"
  },
  {
   "cell_type": "code",
   "execution_count": null,
   "id": "initial_id",
   "metadata": {
    "collapsed": true
   },
   "outputs": [],
   "source": [
    "import os\n",
    "\n",
    "loc_data = []\n",
    "with open(os.path.join(\"data/LOC_train_solution.csv\"), 'r') as file:\n",
    "    lines = file.readlines()"
   ]
  },
  {
   "metadata": {},
   "cell_type": "markdown",
   "source": "Load Synset Mapping Data",
   "id": "79faf995d88120fc"
  },
  {
   "metadata": {},
   "cell_type": "code",
   "outputs": [],
   "execution_count": null,
   "source": [
    "synset_mapping_data = []\n",
    "with open(os.path.join(\"LOC_synset_mapping.txt\"), 'r') as file:\n",
    "    lines = file.readlines()"
   ],
   "id": "4084728a1bb2082e"
  }
 ],
 "metadata": {
  "kernelspec": {
   "display_name": "Python 3",
   "language": "python",
   "name": "python3"
  },
  "language_info": {
   "codemirror_mode": {
    "name": "ipython",
    "version": 2
   },
   "file_extension": ".py",
   "mimetype": "text/x-python",
   "name": "python",
   "nbconvert_exporter": "python",
   "pygments_lexer": "ipython2",
   "version": "2.7.6"
  }
 },
 "nbformat": 4,
 "nbformat_minor": 5
}
