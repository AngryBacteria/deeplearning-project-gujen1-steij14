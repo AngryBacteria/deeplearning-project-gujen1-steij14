{
 "cells": [
  {
   "metadata": {},
   "cell_type": "markdown",
   "source": "Imports und definition der Ordner. BASE_FOLDER ist der Ordner mit den Originaldateien, OUTPUT_FOLDER ist der Ordner, in den die Dateien kopiert werden.",
   "id": "f3556eba48f67a41"
  },
  {
   "metadata": {
    "ExecuteTime": {
     "end_time": "2024-06-05T19:44:40.974539Z",
     "start_time": "2024-06-05T19:44:40.971134Z"
    }
   },
   "cell_type": "code",
   "source": [
    "import os\n",
    "import shutil\n",
    "import nltk\n",
    "from nltk.corpus import wordnet as wn\n",
    "\n",
    "nltk.download('wordnet')\n",
    "BASE_FOLDER = \"imagenet\"\n",
    "OUTPUT_FOLDER = \"synset_processed\""
   ],
   "id": "d0bf3bc7c2227572",
   "outputs": [],
   "execution_count": 2
  },
  {
   "metadata": {},
   "cell_type": "markdown",
   "source": "Mit `classes_to_pick` werden die Synset IDs definiert, die ausgewählt werden sollen. Anschliessend werden alle Bilder und Annotationsdateien in den Output Ordner kopiert.",
   "id": "eb52771c96c5c8a1"
  },
  {
   "metadata": {},
   "cell_type": "code",
   "outputs": [],
   "execution_count": null,
   "source": [
    "# Bears, pandas, teddy bear, etc...\n",
    "classes_to_pick = [\n",
    "    \"n02132136\",\n",
    "    \"n02133161\",\n",
    "    \"n02134084\",\n",
    "    \"n02134418\",\n",
    "    \"n02509815\",\n",
    "    \"n02510455\",\n",
    "    \"n04399382\"\n",
    "]\n",
    "\n",
    "# copy image and annotation files\n",
    "for class_id in classes_to_pick:\n",
    "    DATA_PATH = os.path.join(BASE_FOLDER, \"ILSVRC\")\n",
    "    images_source = os.path.join(DATA_PATH, \"Data\", \"CLS-LOC\", \"train\", class_id)\n",
    "    images_dest = os.path.join(OUTPUT_FOLDER, \"images\", class_id)\n",
    "    annotations_source = os.path.join(DATA_PATH, \"Annotations\", \"CLS-LOC\", \"train\", class_id)\n",
    "    annotations_dest = os.path.join(OUTPUT_FOLDER, \"annotations\", class_id)\n",
    "    \n",
    "    if os.path.exists(images_source) and os.path.exists(annotations_source):\n",
    "        # Images\n",
    "        shutil.copytree(\n",
    "            images_source,\n",
    "            images_dest\n",
    "        )\n",
    "        # Annotations\n",
    "        shutil.copytree(\n",
    "            annotations_source,\n",
    "            annotations_dest\n",
    "        )\n",
    "    else:\n",
    "        print(f\"Class {class_id} does not exist in the dataset\")\n",
    "\n",
    "# copy mapping files\n",
    "shutil.copy(\n",
    "    os.path.join(BASE_FOLDER, \"LOC_synset_mapping.txt\"),\n",
    "    os.path.join(OUTPUT_FOLDER, \"LOC_synset_mapping.txt\")\n",
    ")\n",
    "# Copy localization files\n",
    "shutil.copy(\n",
    "    os.path.join(BASE_FOLDER, \"LOC_train_solution.csv\"),\n",
    "    os.path.join(OUTPUT_FOLDER, \"LOC_train_solution.csv\")\n",
    ")\n",
    "\n",
    "# create zip archive\n",
    "shutil.make_archive(OUTPUT_FOLDER, 'zip', OUTPUT_FOLDER)\n",
    "\n",
    "# remove the output folder\n",
    "shutil.rmtree(OUTPUT_FOLDER)"
   ],
   "id": "fc599b4951a47a26"
  }
 ],
 "metadata": {
  "kernelspec": {
   "display_name": "Python 3",
   "language": "python",
   "name": "python3"
  },
  "language_info": {
   "codemirror_mode": {
    "name": "ipython",
    "version": 2
   },
   "file_extension": ".py",
   "mimetype": "text/x-python",
   "name": "python",
   "nbconvert_exporter": "python",
   "pygments_lexer": "ipython2",
   "version": "2.7.6"
  }
 },
 "nbformat": 4,
 "nbformat_minor": 5
}
