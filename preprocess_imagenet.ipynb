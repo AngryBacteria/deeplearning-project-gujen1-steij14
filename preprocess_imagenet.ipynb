{
 "cells": [
  {
   "metadata": {},
   "cell_type": "markdown",
   "source": "Imports und definition der Ordner. BASE_FOLDER ist der Ordner mit den Originaldateien, OUTPUT_FOLDER ist der Ordner, in den die Dateien kopiert werden sollen. `MAX_IMAGES_PER_CLASS` ist die maximale Anzahl von Bildern pro Klasse, die kopiert werden sollen. ",
   "id": "f3556eba48f67a41"
  },
  {
   "metadata": {
    "ExecuteTime": {
     "end_time": "2024-06-18T08:31:13.641188Z",
     "start_time": "2024-06-18T08:31:13.062248Z"
    }
   },
   "cell_type": "code",
   "source": [
    "import os\n",
    "import shutil\n",
    "import nltk\n",
    "from nltk.corpus import wordnet as wn\n",
    "import random\n",
    "\n",
    "nltk.download('wordnet')\n",
    "BASE_FOLDER = \"imagenet\"\n",
    "IMAGE_DATA_FOLDER = os.path.join(BASE_FOLDER, \"ILSVRC\", \"Data\", \"CLS-LOC\", \"train\")\n",
    "OUTPUT_FOLDER = \"synset_processed\"\n",
    "MAX_IMAGES_PER_CLASS = 10000"
   ],
   "id": "d0bf3bc7c2227572",
   "outputs": [
    {
     "name": "stderr",
     "output_type": "stream",
     "text": [
      "[nltk_data] Downloading package wordnet to\n",
      "[nltk_data]     C:\\Users\\nijog\\AppData\\Roaming\\nltk_data...\n",
      "[nltk_data]   Package wordnet is already up-to-date!\n"
     ]
    }
   ],
   "execution_count": 1
  },
  {
   "metadata": {},
   "cell_type": "markdown",
   "source": "Mit dieser Funktion können alle hyper oder hyponyme eines Synsets gefunden werden. Dies wird anschliessend verwendet um die Bilder in mehrere Klassen zu unterteilen.",
   "id": "d040d814637c3222"
  },
  {
   "metadata": {
    "ExecuteTime": {
     "end_time": "2024-06-18T08:46:50.249818Z",
     "start_time": "2024-06-18T08:46:50.245599Z"
    }
   },
   "cell_type": "code",
   "source": [
    "# A hyponym is like a child in a tree, a more specific concept than the parent\n",
    "def get_all_connected_synsets(synset, above=True):\n",
    "    \"\"\"\n",
    "    Get all connected synsets of a synset. A connected synset is a synset that is either a hypernym or a hyponym of the\n",
    "    given synset.\n",
    "    :param synset: The synset to get the connected synsets of\n",
    "    :param above: If True, get hypernyms. If False, get hyponyms\n",
    "    :return: List of dictionaries containing information about the connected synsets\n",
    "    \"\"\"\n",
    "    hypernyms = []\n",
    "    if above:\n",
    "        to_search = synset.hypernyms()\n",
    "    else:\n",
    "        to_search = synset.hyponyms()\n",
    "\n",
    "    for hypernym in to_search:\n",
    "        offset = hypernym.offset()\n",
    "        wnid = \"n{:08d}\".format(offset)\n",
    "        output = {\n",
    "            'wnid': wnid,\n",
    "            'name': hypernym.name(),\n",
    "            'lemma_names': hypernym.lemma_names(),\n",
    "            'definition': hypernym.definition(),\n",
    "        }\n",
    "        hypernyms.append(output)\n",
    "        hypernyms.extend(get_all_connected_synsets(hypernym, above=above))\n",
    "\n",
    "    return hypernyms"
   ],
   "id": "2b07fb3bcd6b3fff",
   "outputs": [],
   "execution_count": 12
  },
  {
   "metadata": {},
   "cell_type": "markdown",
   "source": "Hier wird mit dem `to_pick` Dictionary definiert, welche Klassen kopiert werden sollen. Es wird immer geschaut, ob die Klasse existiert und dann in den Output Ordner kopiert.",
   "id": "eb52771c96c5c8a1"
  },
  {
   "metadata": {
    "ExecuteTime": {
     "end_time": "2024-06-18T08:54:58.912943Z",
     "start_time": "2024-06-18T08:54:58.900233Z"
    }
   },
   "cell_type": "code",
   "source": [
    "fish = wn.synsets('fish')[0]\n",
    "bird = wn.synsets('bird')[0]\n",
    "dog = wn.synsets('dog')[0]\n",
    "snake = wn.synsets('snake')[0]\n",
    "\n",
    "to_pick = {\n",
    "    \"fish\": get_all_connected_synsets(fish, above=False),\n",
    "    \"bird\": get_all_connected_synsets(bird, above=False),\n",
    "    \"dog\": get_all_connected_synsets(dog, above=False),\n",
    "    \"snake\": get_all_connected_synsets(snake, above=False),\n",
    "}\n",
    "\n",
    "print(to_pick[\"dog\"])"
   ],
   "id": "8f4d5725d870803e",
   "outputs": [
    {
     "name": "stdout",
     "output_type": "stream",
     "text": [
      "[]\n",
      "------------------------------------------------------------------------------------------\n",
      "[]\n",
      "------------------------------------------------------------------------------------------\n",
      "[{'wnid': 'n01740551', 'name': 'blind_snake.n.01', 'lemma_names': ['blind_snake', 'worm_snake'], 'definition': 'wormlike burrowing snake of warm regions having vestigial eyes'}, {'wnid': 'n01740885', 'name': 'western_blind_snake.n.01', 'lemma_names': ['western_blind_snake', 'Leptotyphlops_humilis'], 'definition': 'burrows among roots of shrubs and beneath rocks in desert and rocky hillside areas and beach sand of western United States'}, {'wnid': 'n01727646', 'name': 'colubrid_snake.n.01', 'lemma_names': ['colubrid_snake', 'colubrid'], 'definition': 'mostly harmless temperate-to-tropical terrestrial or arboreal or aquatic snakes'}, {'wnid': 'n01739094', 'name': 'black-headed_snake.n.01', 'lemma_names': ['black-headed_snake'], 'definition': 'small secretive ground-living snake; found from central United States to Argentina'}, {'wnid': 'n01733757', 'name': 'bull_snake.n.01', 'lemma_names': ['bull_snake', 'bull-snake'], 'definition': 'any of several large harmless rodent-eating North American burrowing snakes'}, {'wnid': 'n01733957', 'name': 'gopher_snake.n.02', 'lemma_names': ['gopher_snake', 'Pituophis_melanoleucus'], 'definition': 'bull snake of western North America that invades rodent burrows'}, {'wnid': 'n01734104', 'name': 'pine_snake.n.01', 'lemma_names': ['pine_snake'], 'definition': 'any of several bull snakes of eastern and southeastern United States found chiefly in pine woods; now threatened'}, {'wnid': 'n01736796', 'name': 'eastern_ground_snake.n.01', 'lemma_names': ['eastern_ground_snake', 'Potamophis_striatula', 'Haldea_striatula'], 'definition': 'in some classifications placed in genus Haldea; small reddish-grey snake of eastern North America'}, {'wnid': 'n01735189', 'name': 'garter_snake.n.01', 'lemma_names': ['garter_snake', 'grass_snake'], 'definition': 'any of numerous nonvenomous longitudinally-striped viviparous North American and Central American snakes'}, {'wnid': 'n01735439', 'name': 'common_garter_snake.n.01', 'lemma_names': ['common_garter_snake', 'Thamnophis_sirtalis'], 'definition': 'a garter snake that is widespread in North America'}, {'wnid': 'n01735577', 'name': 'ribbon_snake.n.01', 'lemma_names': ['ribbon_snake', 'Thamnophis_sauritus'], 'definition': 'slender yellow-striped North American garter snake; prefers wet places'}, {'wnid': 'n01735728', 'name': 'western_ribbon_snake.n.01', 'lemma_names': ['Western_ribbon_snake', 'Thamnophis_proximus'], 'definition': 'yellow- or reddish-striped snake of temperate woodlands and grasslands to tropics'}, {'wnid': 'n01733466', 'name': 'glossy_snake.n.01', 'lemma_names': ['glossy_snake', 'Arizona_elegans'], 'definition': 'nocturnal burrowing snake of western United States with shiny tan scales'}, {'wnid': 'n01730563', 'name': 'green_snake.n.01', 'lemma_names': ['green_snake'], 'definition': 'any of numerous African colubrid snakes'}, {'wnid': 'n01729977', 'name': 'green_snake.n.02', 'lemma_names': ['green_snake', 'grass_snake'], 'definition': 'either of two North American chiefly insectivorous snakes that are green in color'}, {'wnid': 'n01730307', 'name': 'rough_green_snake.n.01', 'lemma_names': ['rough_green_snake', 'Opheodrys_aestivus'], 'definition': 'of southern and eastern United States'}, {'wnid': 'n01730185', 'name': 'smooth_green_snake.n.01', 'lemma_names': ['smooth_green_snake', 'Opheodrys_vernalis'], 'definition': 'of western and central United States'}, {'wnid': 'n01736375', 'name': 'ground_snake.n.01', 'lemma_names': ['ground_snake', 'Sonora_semiannulata'], 'definition': 'small shy brightly-ringed terrestrial snake of arid or semiarid areas of western North America'}, {'wnid': 'n01729322', 'name': 'hognose_snake.n.01', 'lemma_names': ['hognose_snake', 'puff_adder', 'sand_viper'], 'definition': 'harmless North American snake with upturned nose; may spread its head and neck or play dead when disturbed'}, {'wnid': 'n01728266', 'name': 'hoop_snake.n.01', 'lemma_names': ['hoop_snake'], 'definition': 'any of various harmless North American snakes that were formerly believed to take tail in mouth and roll along like a hoop'}, {'wnid': 'n01741232', 'name': 'indigo_snake.n.01', 'lemma_names': ['indigo_snake', 'gopher_snake', 'Drymarchon_corais'], 'definition': 'large dark-blue nonvenomous snake that invades burrows; found in southern North America and Mexico'}, {'wnid': 'n01741442', 'name': 'eastern_indigo_snake.n.01', 'lemma_names': ['eastern_indigo_snake', 'Drymarchon_corais_couperi'], 'definition': 'a variety of indigo snake'}, {'wnid': 'n01734418', 'name': 'king_snake.n.01', 'lemma_names': ['king_snake', 'kingsnake'], 'definition': 'any of numerous nonvenomous North American constrictors; feed on other snakes and small mammals'}, {'wnid': 'n01734637', 'name': 'common_kingsnake.n.01', 'lemma_names': ['common_kingsnake', 'Lampropeltis_getulus'], 'definition': 'widespread in United States except northern regions; black or brown with yellow bands'}, {'wnid': 'n01734808', 'name': 'milk_snake.n.01', 'lemma_names': ['milk_snake', 'house_snake', 'milk_adder', 'checkered_adder', 'Lampropeltis_triangulum'], 'definition': 'nonvenomous tan and brown king snake with an arrow-shaped occipital spot; southeastern ones have red stripes like coral snakes'}, {'wnid': 'n01729672', 'name': 'leaf-nosed_snake.n.01', 'lemma_names': ['leaf-nosed_snake'], 'definition': 'any of various pale blotched snakes with a blunt snout of southwestern North America'}, {'wnid': 'n01736032', 'name': 'lined_snake.n.01', 'lemma_names': ['lined_snake', 'Tropidoclonion_lineatum'], 'definition': 'secretive snake of city dumps and parks as well as prairies and open woods; feeds on earthworms; of central United States'}, {'wnid': 'n01739647', 'name': 'lyre_snake.n.01', 'lemma_names': ['lyre_snake'], 'definition': 'mildly venomous snake with a lyre-shaped mark on the head; found in rocky areas from southwestern United States to Central America'}, {'wnid': 'n01739871', 'name': 'sonoran_lyre_snake.n.01', 'lemma_names': ['Sonoran_lyre_snake', 'Trimorphodon_lambda'], 'definition': 'of desert regions of southwestern North America'}, {'wnid': 'n01740131', 'name': 'night_snake.n.01', 'lemma_names': ['night_snake', 'Hypsiglena_torquata'], 'definition': 'nocturnal prowler of western United States and Mexico'}, {'wnid': 'n01730812', 'name': 'racer.n.04', 'lemma_names': ['racer'], 'definition': 'slender fast-moving North American snakes'}, {'wnid': 'n01730960', 'name': 'blacksnake.n.02', 'lemma_names': ['blacksnake', 'black_racer', 'Coluber_constrictor'], 'definition': 'blackish racer of the eastern United States that grows to six feet'}, {'wnid': 'n01731137', 'name': 'blue_racer.n.01', 'lemma_names': ['blue_racer', 'Coluber_constrictor_flaviventris'], 'definition': 'bluish-green blacksnake found from Ohio to Texas'}, {'wnid': 'n01731277', 'name': 'horseshoe_whipsnake.n.01', 'lemma_names': ['horseshoe_whipsnake', 'Coluber_hippocrepis'], 'definition': 'slender fast-moving Eurasian snake'}, {'wnid': 'n01732244', 'name': 'rat_snake.n.01', 'lemma_names': ['rat_snake'], 'definition': 'any of various nonvenomous rodent-eating snakes of North America and Asia'}, {'wnid': 'n01732789', 'name': 'black_rat_snake.n.01', 'lemma_names': ['black_rat_snake', 'blacksnake', 'pilot_blacksnake', 'mountain_blacksnake', 'Elaphe_obsoleta'], 'definition': 'large harmless shiny black North American snake'}, {'wnid': 'n01732989', 'name': 'chicken_snake.n.01', 'lemma_names': ['chicken_snake'], 'definition': 'large North American snake'}, {'wnid': 'n01732614', 'name': 'corn_snake.n.01', 'lemma_names': ['corn_snake', 'red_rat_snake', 'Elaphe_guttata'], 'definition': 'large harmless snake of southeastern United States; often on farms'}, {'wnid': 'n01733214', 'name': 'indian_rat_snake.n.01', 'lemma_names': ['Indian_rat_snake', 'Ptyas_mucosus'], 'definition': 'enter buildings in pursuit of prey'}, {'wnid': 'n01738306', 'name': 'red-bellied_snake.n.01', 'lemma_names': ['red-bellied_snake', 'Storeria_occipitamaculata'], 'definition': 'harmless woodland snake of southeastern United States'}, {'wnid': 'n01728920', 'name': 'ringneck_snake.n.01', 'lemma_names': ['ringneck_snake', 'ring-necked_snake', 'ring_snake'], 'definition': 'any of numerous small nonvenomous North American snakes with a yellow or orange ring around the neck'}, {'wnid': 'n01738601', 'name': 'sand_snake.n.01', 'lemma_names': ['sand_snake'], 'definition': 'small North American burrowing snake'}, {'wnid': 'n01738731', 'name': 'banded_sand_snake.n.01', 'lemma_names': ['banded_sand_snake', 'Chilomeniscus_cinctus'], 'definition': \"a sand snake of southwestern United States; lives in fine to coarse sand or loamy soil in which it `swims'; banding resembles that of coral snakes\"}, {'wnid': 'n01728572', 'name': 'thunder_snake.n.01', 'lemma_names': ['thunder_snake', 'worm_snake', 'Carphophis_amoenus'], 'definition': 'small reddish wormlike snake of eastern United States'}, {'wnid': 'n01739381', 'name': 'vine_snake.n.01', 'lemma_names': ['vine_snake'], 'definition': 'slender arboreal snake found from southern Arizona to Bolivia'}, {'wnid': 'n01737021', 'name': 'water_snake.n.01', 'lemma_names': ['water_snake'], 'definition': 'any of various mostly harmless snakes that live in or near water'}, {'wnid': 'n01737472', 'name': 'common_water_snake.n.01', 'lemma_names': ['common_water_snake', 'banded_water_snake', 'Natrix_sipedon', 'Nerodia_sipedon'], 'definition': 'in some classifications placed in the genus Nerodia; western United States snake that seldom ventures far from water'}, {'wnid': 'n01737875', 'name': 'grass_snake.n.01', 'lemma_names': ['grass_snake', 'ring_snake', 'ringed_snake', 'Natrix_natrix'], 'definition': 'harmless European snake with a bright yellow collar; common in England'}, {'wnid': 'n01738065', 'name': 'viperine_grass_snake.n.01', 'lemma_names': ['viperine_grass_snake', 'Natrix_maura'], 'definition': 'a small harmless grass snake'}, {'wnid': 'n01737728', 'name': 'water_moccasin.n.02', 'lemma_names': ['water_moccasin'], 'definition': 'any of numerous North American water snakes inhabiting fresh waters'}, {'wnid': 'n01731545', 'name': 'whip-snake.n.01', 'lemma_names': ['whip-snake', 'whip_snake', 'whipsnake'], 'definition': 'any of several small fast-moving snakes with long whiplike tails'}, {'wnid': 'n01731941', 'name': 'california_whipsnake.n.01', 'lemma_names': ['California_whipsnake', 'striped_racer', 'Masticophis_lateralis'], 'definition': 'a whipsnake of scrublands and rocky hillsides'}, {'wnid': 'n01731764', 'name': 'coachwhip.n.02', 'lemma_names': ['coachwhip', 'coachwhip_snake', 'Masticophis_flagellum'], 'definition': 'a whipsnake of southern United States and Mexico; tail resembles a braided whip'}, {'wnid': 'n01732093', 'name': 'sonoran_whipsnake.n.01', 'lemma_names': ['Sonoran_whipsnake', 'Masticophis_bilineatus'], 'definition': 'both terrestrial and arboreal snake of United States southwest'}, {'wnid': 'n01741562', 'name': 'constrictor.n.01', 'lemma_names': ['constrictor'], 'definition': 'any of various large nonvenomous snakes that kill their prey by crushing it in its coils'}, {'wnid': 'n01741943', 'name': 'boa.n.02', 'lemma_names': ['boa'], 'definition': 'any of several chiefly tropical constrictors with vestigial hind limbs'}, {'wnid': 'n01743086', 'name': 'anaconda.n.01', 'lemma_names': ['anaconda', 'Eunectes_murinus'], 'definition': 'large arboreal boa of tropical South America'}, {'wnid': 'n01742172', 'name': 'boa_constrictor.n.01', 'lemma_names': ['boa_constrictor', 'Constrictor_constrictor'], 'definition': 'very large boa of tropical America and West Indies'}, {'wnid': 'n01743605', 'name': 'python.n.01', 'lemma_names': ['python'], 'definition': 'large Old World boas'}, {'wnid': 'n01744555', 'name': 'amethystine_python.n.01', 'lemma_names': ['amethystine_python'], 'definition': 'a python having the color of amethyst'}, {'wnid': 'n01743936', 'name': 'carpet_snake.n.01', 'lemma_names': ['carpet_snake', 'Python_variegatus', 'Morelia_spilotes_variegatus'], 'definition': 'Australian python with a variegated pattern on its back'}, {'wnid': 'n01744270', 'name': 'indian_python.n.01', 'lemma_names': ['Indian_python', 'Python_molurus'], 'definition': 'very large python of southeast Asia'}, {'wnid': 'n01744100', 'name': 'reticulated_python.n.01', 'lemma_names': ['reticulated_python', 'Python_reticulatus'], 'definition': 'of southeast Asia and East Indies; the largest snake in the world'}, {'wnid': 'n01744401', 'name': 'rock_python.n.01', 'lemma_names': ['rock_python', 'rock_snake', 'Python_sebae'], 'definition': 'very large python of tropical and southern Africa'}, {'wnid': 'n01742821', 'name': 'rosy_boa.n.01', 'lemma_names': ['rosy_boa', 'Lichanura_trivirgata'], 'definition': 'boa of rocky desert of southwestern United States'}, {'wnid': 'n01742447', 'name': 'rubber_boa.n.01', 'lemma_names': ['rubber_boa', 'tow-headed_snake', 'Charina_bottae'], 'definition': 'boa of grasslands and woodlands of western North America; looks and feels like rubber with tail and head of similar shape'}, {'wnid': 'n01745125', 'name': 'elapid.n.01', 'lemma_names': ['elapid', 'elapid_snake'], 'definition': 'any of numerous venomous fanged snakes of warmer parts of both hemispheres'}, {'wnid': 'n01750743', 'name': 'australian_blacksnake.n.01', 'lemma_names': ['Australian_blacksnake', 'Pseudechis_porphyriacus'], 'definition': 'large semiaquatic snake of Australia; black above with red belly'}, {'wnid': 'n01747885', 'name': 'cobra.n.01', 'lemma_names': ['cobra'], 'definition': 'venomous Asiatic and African elapid snakes that can expand the skin of the neck into a hood'}, {'wnid': 'n01748389', 'name': 'asp.n.02', 'lemma_names': ['asp', 'Egyptian_cobra', 'Naja_haje'], 'definition': 'cobra used by the Pharaohs as a symbol of their power over life and death'}, {'wnid': 'n01748686', 'name': 'black-necked_cobra.n.01', 'lemma_names': ['black-necked_cobra', 'spitting_cobra', 'Naja_nigricollis'], 'definition': 'aggressive cobra widely distributed in Africa; rarely bites but spits venom that may cause blindness'}, {'wnid': 'n01748906', 'name': 'hamadryad.n.02', 'lemma_names': ['hamadryad', 'king_cobra', 'Ophiophagus_hannah', 'Naja_hannah'], 'definition': 'large cobra of southeastern Asia and the East Indies; the largest venomous snake; sometimes placed in genus Naja'}, {'wnid': 'n01748264', 'name': 'indian_cobra.n.01', 'lemma_names': ['Indian_cobra', 'Naja_naja'], 'definition': 'a cobra of tropical Africa and Asia'}, {'wnid': 'n01747589', 'name': 'copperhead.n.02', 'lemma_names': ['copperhead', 'Denisonia_superba'], 'definition': 'venomous but sluggish reddish-brown snake of Australia'}, {'wnid': 'n01746359', 'name': 'coral_snake.n.01', 'lemma_names': ['coral_snake', 'Old_World_coral_snake'], 'definition': 'any of various venomous elapid snakes of Asia and Africa and Australia'}, {'wnid': 'n01746952', 'name': 'african_coral_snake.n.01', 'lemma_names': ['African_coral_snake', 'Aspidelaps_lubricus'], 'definition': 'small widely distributed arboreal snake of southern Africa banded in black and orange'}, {'wnid': 'n01746727', 'name': 'asian_coral_snake.n.01', 'lemma_names': ['Asian_coral_snake'], 'definition': 'of India'}, {'wnid': 'n01747285', 'name': 'australian_coral_snake.n.01', 'lemma_names': ['Australian_coral_snake', 'Rhynchoelaps_australis'], 'definition': 'small venomous but harmless snake marked with black-and-white on red'}, {'wnid': 'n01745484', 'name': 'coral_snake.n.02', 'lemma_names': ['coral_snake', 'harlequin-snake', 'New_World_coral_snake'], 'definition': 'any of several venomous New World snakes brilliantly banded in red and black and either yellow or white; widely distributed in South America and Central America'}, {'wnid': 'n01745902', 'name': 'eastern_coral_snake.n.01', 'lemma_names': ['eastern_coral_snake', 'Micrurus_fulvius'], 'definition': 'ranges from Central America to southeastern United States'}, {'wnid': 'n01746191', 'name': 'western_coral_snake.n.01', 'lemma_names': ['western_coral_snake', 'Micruroides_euryxanthus'], 'definition': 'ranges from Central America to southwestern United States'}, {'wnid': 'n01750167', 'name': 'death_adder.n.01', 'lemma_names': ['death_adder', 'Acanthophis_antarcticus'], 'definition': 'venomous Australian snake resembling an adder'}, {'wnid': 'n01751036', 'name': 'krait.n.01', 'lemma_names': ['krait'], 'definition': 'brightly colored venomous but nonaggressive snake of southeastern Asia and Malay peninsula'}, {'wnid': 'n01751215', 'name': 'banded_krait.n.01', 'lemma_names': ['banded_krait', 'banded_adder', 'Bungarus_fasciatus'], 'definition': 'sluggish krait banded with black and yellow'}, {'wnid': 'n01749582', 'name': 'mamba.n.01', 'lemma_names': ['mamba'], 'definition': 'arboreal snake of central and southern Africa whose bite is often fatal'}, {'wnid': 'n01749742', 'name': 'black_mamba.n.01', 'lemma_names': ['black_mamba', 'Dendroaspis_augusticeps'], 'definition': 'a highly venomous southern African mamba dreaded because of its quickness and readiness to bite'}, {'wnid': 'n01749939', 'name': 'green_mamba.n.01', 'lemma_names': ['green_mamba'], 'definition': 'green phase of the black mamba'}, {'wnid': 'n01749244', 'name': 'ringhals.n.01', 'lemma_names': ['ringhals', 'rinkhals', 'spitting_snake', 'Hemachatus_haemachatus'], 'definition': 'highly venomous snake of southern Africa able to spit venom up to seven feet'}, {'wnid': 'n01751472', 'name': 'taipan.n.01', 'lemma_names': ['taipan', 'Oxyuranus_scutellatus'], 'definition': 'large highly venomous snake of northeastern Australia'}, {'wnid': 'n01750437', 'name': 'tiger_snake.n.01', 'lemma_names': ['tiger_snake', 'Notechis_scutatus'], 'definition': 'highly venomous brown-and-yellow snake of Australia and Tasmania'}, {'wnid': 'n01751748', 'name': 'sea_snake.n.01', 'lemma_names': ['sea_snake'], 'definition': 'any of numerous venomous aquatic viviparous snakes having a fin-like tail; of warm littoral seas; feed on fish which they immobilize with quick-acting venom'}, {'wnid': 'n01752165', 'name': 'viper.n.01', 'lemma_names': ['viper'], 'definition': 'venomous Old World snakes characterized by hollow venom-conducting fangs in the upper jaw'}, {'wnid': 'n01752585', 'name': 'adder.n.03', 'lemma_names': ['adder', 'common_viper', 'Vipera_berus'], 'definition': 'small terrestrial viper common in northern Eurasia'}, {'wnid': 'n01752736', 'name': 'asp.n.01', 'lemma_names': ['asp', 'asp_viper', 'Vipera_aspis'], 'definition': 'of southern Europe; similar to but smaller than the adder'}, {'wnid': 'n01753180', 'name': 'gaboon_viper.n.01', 'lemma_names': ['gaboon_viper', 'Bitis_gabonica'], 'definition': 'large heavy-bodied brilliantly marked and extremely venomous west African viper'}, {'wnid': 'n01753488', 'name': 'horned_viper.n.01', 'lemma_names': ['horned_viper', 'cerastes', 'sand_viper', 'horned_asp', 'Cerastes_cornutus'], 'definition': 'highly venomous viper of northern Africa and southwestern Asia having a horny spine above each eye'}, {'wnid': 'n01753959', 'name': 'pit_viper.n.01', 'lemma_names': ['pit_viper'], 'definition': 'New World vipers with hollow fangs and a heat-sensitive pit on each side of the head'}, {'wnid': 'n01754370', 'name': 'copperhead.n.01', 'lemma_names': ['copperhead', 'Agkistrodon_contortrix'], 'definition': 'common coppery brown pit viper of upland eastern United States'}, {'wnid': 'n01758141', 'name': 'fer-de-lance.n.01', 'lemma_names': ['fer-de-lance', 'Bothrops_atrops'], 'definition': 'large extremely venomous pit viper of Central America and South America'}, {'wnid': 'n01754876', 'name': 'rattlesnake.n.01', 'lemma_names': ['rattlesnake', 'rattler'], 'definition': 'pit viper with horny segments at the end of the tail that rattle when shaken'}, {'wnid': 'n01755581', 'name': 'diamondback.n.01', 'lemma_names': ['diamondback', 'diamondback_rattlesnake', 'Crotalus_adamanteus'], 'definition': 'large deadly rattlesnake with diamond-shaped markings'}, {'wnid': 'n01757901', 'name': 'ground_rattler.n.01', 'lemma_names': ['ground_rattler', 'massasauga', 'Sistrurus_miliaris'], 'definition': 'small pygmy rattlesnake'}, {'wnid': 'n01757677', 'name': 'massasauga.n.02', 'lemma_names': ['massasauga', 'massasauga_rattler', 'Sistrurus_catenatus'], 'definition': 'pygmy rattlesnake found in moist areas from the Great Lakes to Mexico; feeds on mice and small amphibians'}, {'wnid': 'n01757115', 'name': 'mojave_rattlesnake.n.01', 'lemma_names': ['Mojave_rattlesnake', 'Crotalus_scutulatus'], 'definition': 'extremely dangerous; most common in areas of scattered scrubby growth; from Mojave Desert to western Texas and into Mexico'}, {'wnid': 'n01756089', 'name': 'prairie_rattlesnake.n.01', 'lemma_names': ['prairie_rattlesnake', 'prairie_rattler', 'Western_rattlesnake', 'Crotalus_viridis'], 'definition': 'widely distributed between the Mississippi and the Rockies'}, {'wnid': 'n01756733', 'name': 'rock_rattlesnake.n.01', 'lemma_names': ['rock_rattlesnake', 'Crotalus_lepidus'], 'definition': 'mountain rock dweller of Mexico and most southern parts of United States southwest'}, {'wnid': 'n01756291', 'name': 'sidewinder.n.01', 'lemma_names': ['sidewinder', 'horned_rattlesnake', 'Crotalus_cerastes'], 'definition': 'small pale-colored desert rattlesnake of southwestern United States; body moves in an s-shaped curve'}, {'wnid': 'n01757343', 'name': 'speckled_rattlesnake.n.01', 'lemma_names': ['speckled_rattlesnake', 'Crotalus_mitchellii'], 'definition': 'markings vary but usually harmonize with background; of southwestern Arizona and Baja California'}, {'wnid': 'n01756916', 'name': 'tiger_rattlesnake.n.01', 'lemma_names': ['tiger_rattlesnake', 'Crotalus_tigris'], 'definition': 'having irregularly cross-banded back; of arid foothills and canyons of southern Arizona and Mexico'}, {'wnid': 'n01755740', 'name': 'timber_rattlesnake.n.01', 'lemma_names': ['timber_rattlesnake', 'banded_rattlesnake', 'Crotalus_horridus_horridus'], 'definition': 'widely distributed in rugged ground of eastern United States'}, {'wnid': 'n01755952', 'name': 'canebrake_rattlesnake.n.01', 'lemma_names': ['canebrake_rattlesnake', 'canebrake_rattler', 'Crotalus_horridus_atricaudatus'], 'definition': 'southern variety'}, {'wnid': 'n01756508', 'name': 'western_diamondback.n.01', 'lemma_names': ['Western_diamondback', 'Western_diamondback_rattlesnake', 'Crotalus_atrox'], 'definition': 'largest and most dangerous North American snake; of southwestern United States and Mexico'}, {'wnid': 'n01754533', 'name': 'water_moccasin.n.01', 'lemma_names': ['water_moccasin', 'cottonmouth', 'cottonmouth_moccasin', 'Agkistrodon_piscivorus'], 'definition': 'venomous semiaquatic snake of swamps in southern United States'}, {'wnid': 'n01753032', 'name': 'puff_adder.n.01', 'lemma_names': ['puff_adder', 'Bitis_arietans'], 'definition': 'large African viper that inflates its body when alarmed'}]\n"
     ]
    }
   ],
   "execution_count": 14
  },
  {
   "metadata": {
    "ExecuteTime": {
     "end_time": "2024-06-15T13:36:17.213528Z",
     "start_time": "2024-06-15T13:36:17.194314Z"
    }
   },
   "cell_type": "code",
   "source": [
    "image_counts = {category: 0 for category in to_pick.keys()}\n",
    "for category in to_pick.keys():\n",
    "    for synset_dict in to_pick[category]:\n",
    "        # check if images exist\n",
    "        candidate_path = os.path.join(IMAGE_DATA_FOLDER, synset_dict['wnid'])\n",
    "        if not os.path.exists(candidate_path):\n",
    "            print(f\"Class {synset_dict['wnid']} ({category}) does not exist in the dataset, skipping....\")\n",
    "            continue\n",
    "        \n",
    "        # Count images in the directory\n",
    "        num_images = len(os.listdir(candidate_path))\n",
    "        image_counts[category] += num_images\n",
    "        \n",
    "        # copy images\n",
    "        images_dest = os.path.join(OUTPUT_FOLDER, \"images\", category)\n",
    "        shutil.copytree(\n",
    "            candidate_path,\n",
    "            images_dest,\n",
    "            dirs_exist_ok=True\n",
    "        )\n",
    "        print(f\"Images for class {synset_dict['wnid']} ({category}) copied to output\")\n",
    "\n",
    "# Output the image counts for each category\n",
    "for category, count in image_counts.items():\n",
    "    print(f\"Total images for category {category}: {count}\")\n",
    "    \n",
    "# sample down\n",
    "for category in to_pick.keys():\n",
    "    folder_path = os.path.join(OUTPUT_FOLDER, \"images\", category)\n",
    "    if os.path.exists(folder_path):\n",
    "        images = os.listdir(folder_path)\n",
    "        if len(images) > MAX_IMAGES_PER_CLASS:\n",
    "            # Randomly select images to delete\n",
    "            to_delete = random.sample(images, len(images) - MAX_IMAGES_PER_CLASS)\n",
    "            for image in to_delete:\n",
    "                os.remove(os.path.join(folder_path, image))\n",
    "\n",
    "# copy mapping files\n",
    "shutil.copy(\n",
    "    os.path.join(BASE_FOLDER, \"LOC_synset_mapping.txt\"),\n",
    "    os.path.join(OUTPUT_FOLDER, \"LOC_synset_mapping.txt\")\n",
    ")\n",
    "# Copy localization files\n",
    "shutil.copy(\n",
    "    os.path.join(BASE_FOLDER, \"LOC_train_solution.csv\"),\n",
    "    os.path.join(OUTPUT_FOLDER, \"LOC_train_solution.csv\")\n",
    ")\n",
    "print(\"Copied annotation files to output\")\n",
    "\n",
    "print(\"Creating zip archive...\")\n",
    "# create zip archive\n",
    "shutil.make_archive(OUTPUT_FOLDER, 'zip', OUTPUT_FOLDER)\n",
    "# remove the output folder\n",
    "shutil.rmtree(OUTPUT_FOLDER)\n",
    "print(\"Done!\")"
   ],
   "id": "bff22cd418da8159",
   "outputs": [
    {
     "ename": "TypeError",
     "evalue": "join() argument must be str, bytes, or os.PathLike object, not 'dict'",
     "output_type": "error",
     "traceback": [
      "\u001B[1;31m---------------------------------------------------------------------------\u001B[0m",
      "\u001B[1;31mTypeError\u001B[0m                                 Traceback (most recent call last)",
      "Cell \u001B[1;32mIn[24], line 4\u001B[0m\n\u001B[0;32m      1\u001B[0m \u001B[38;5;28;01mfor\u001B[39;00m class_name \u001B[38;5;129;01min\u001B[39;00m to_pick\u001B[38;5;241m.\u001B[39mkeys():\n\u001B[0;32m      2\u001B[0m     \u001B[38;5;28;01mfor\u001B[39;00m class_id \u001B[38;5;129;01min\u001B[39;00m to_pick[class_name]:\n\u001B[0;32m      3\u001B[0m         \u001B[38;5;66;03m# check if images exist\u001B[39;00m\n\u001B[1;32m----> 4\u001B[0m         candidate_path \u001B[38;5;241m=\u001B[39m \u001B[43mos\u001B[49m\u001B[38;5;241;43m.\u001B[39;49m\u001B[43mpath\u001B[49m\u001B[38;5;241;43m.\u001B[39;49m\u001B[43mjoin\u001B[49m\u001B[43m(\u001B[49m\u001B[43mIMAGE_DATA_FOLDER\u001B[49m\u001B[43m,\u001B[49m\u001B[43m \u001B[49m\u001B[43mclass_id\u001B[49m\u001B[43m)\u001B[49m\n\u001B[0;32m      5\u001B[0m         \u001B[38;5;28;01mif\u001B[39;00m \u001B[38;5;129;01mnot\u001B[39;00m os\u001B[38;5;241m.\u001B[39mpath\u001B[38;5;241m.\u001B[39mexists(candidate_path):\n\u001B[0;32m      6\u001B[0m             \u001B[38;5;28mprint\u001B[39m(\u001B[38;5;124mf\u001B[39m\u001B[38;5;124m\"\u001B[39m\u001B[38;5;124mClass \u001B[39m\u001B[38;5;132;01m{\u001B[39;00mclass_id\u001B[38;5;132;01m}\u001B[39;00m\u001B[38;5;124m does not exist in the dataset, skipping....\u001B[39m\u001B[38;5;124m\"\u001B[39m)\n",
      "File \u001B[1;32m<frozen ntpath>:147\u001B[0m, in \u001B[0;36mjoin\u001B[1;34m(path, *paths)\u001B[0m\n",
      "File \u001B[1;32m<frozen genericpath>:152\u001B[0m, in \u001B[0;36m_check_arg_types\u001B[1;34m(funcname, *args)\u001B[0m\n",
      "\u001B[1;31mTypeError\u001B[0m: join() argument must be str, bytes, or os.PathLike object, not 'dict'"
     ]
    }
   ],
   "execution_count": 24
  }
 ],
 "metadata": {
  "kernelspec": {
   "display_name": "Python 3",
   "language": "python",
   "name": "python3"
  },
  "language_info": {
   "codemirror_mode": {
    "name": "ipython",
    "version": 2
   },
   "file_extension": ".py",
   "mimetype": "text/x-python",
   "name": "python",
   "nbconvert_exporter": "python",
   "pygments_lexer": "ipython2",
   "version": "2.7.6"
  }
 },
 "nbformat": 4,
 "nbformat_minor": 5
}
