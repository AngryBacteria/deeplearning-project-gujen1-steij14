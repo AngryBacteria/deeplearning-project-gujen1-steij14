{
 "cells": [
  {
   "metadata": {},
   "cell_type": "markdown",
   "source": "Imports und definition der Ordner. BASE_FOLDER ist der Ordner mit den Originaldateien, OUTPUT_FOLDER ist der Ordner, in den die Dateien kopiert werden sollen. `MAX_IMAGES_PER_CLASS` ist die maximale Anzahl von Bildern pro Klasse, die kopiert werden sollen. ",
   "id": "f3556eba48f67a41"
  },
  {
   "metadata": {
    "ExecuteTime": {
     "end_time": "2024-06-18T11:43:47.941663Z",
     "start_time": "2024-06-18T11:43:46.560363Z"
    }
   },
   "cell_type": "code",
   "source": [
    "import os\n",
    "import shutil\n",
    "import nltk\n",
    "from nltk.corpus import wordnet as wn\n",
    "import random\n",
    "\n",
    "nltk.download(\"wordnet\")\n",
    "BASE_FOLDER = \"imagenet\"\n",
    "IMAGE_DATA_FOLDER = os.path.join(BASE_FOLDER, \"ILSVRC\", \"Data\", \"CLS-LOC\", \"train\")\n",
    "MAX_IMAGES_PER_CLASS = 10000"
   ],
   "id": "d0bf3bc7c2227572",
   "outputs": [
    {
     "name": "stderr",
     "output_type": "stream",
     "text": [
      "[nltk_data] Downloading package wordnet to\n",
      "[nltk_data]     C:\\Users\\nijog\\AppData\\Roaming\\nltk_data...\n",
      "[nltk_data]   Package wordnet is already up-to-date!\n"
     ]
    }
   ],
   "execution_count": 2
  },
  {
   "metadata": {},
   "cell_type": "markdown",
   "source": "Mit dieser Funktion können alle hyper oder hyponyme eines Synsets gefunden werden. Dies wird anschliessend verwendet um die Bilder in mehrere Klassen zu unterteilen.",
   "id": "d040d814637c3222"
  },
  {
   "metadata": {
    "ExecuteTime": {
     "end_time": "2024-06-18T11:43:49.214571Z",
     "start_time": "2024-06-18T11:43:49.209943Z"
    }
   },
   "cell_type": "code",
   "source": [
    "# A hyponym is like a child in a tree, a more specific concept than the parent\n",
    "def get_all_connected_synsets(synset, above=True):\n",
    "    \"\"\"\n",
    "    Get all connected synsets of a synset. A connected synset is a synset that is either a hypernym or a hyponym of the\n",
    "    given synset.\n",
    "    :param synset: The synset to get the connected synsets of\n",
    "    :param above: If True, get hypernyms. If False, get hyponyms\n",
    "    :return: List of dictionaries containing information about the connected synsets\n",
    "    \"\"\"\n",
    "    hypernyms = []\n",
    "    if above:\n",
    "        to_search = synset.hypernyms()\n",
    "    else:\n",
    "        to_search = synset.hyponyms()\n",
    "\n",
    "    for hypernym in to_search:\n",
    "        offset = hypernym.offset()\n",
    "        wnid = \"n{:08d}\".format(offset)\n",
    "        output = {\n",
    "            \"wnid\": wnid,\n",
    "            \"name\": hypernym.name(),\n",
    "            \"lemma_names\": hypernym.lemma_names(),\n",
    "            \"definition\": hypernym.definition(),\n",
    "        }\n",
    "        hypernyms.append(output)\n",
    "        hypernyms.extend(get_all_connected_synsets(hypernym, above=above))\n",
    "\n",
    "    return hypernyms"
   ],
   "id": "2b07fb3bcd6b3fff",
   "outputs": [],
   "execution_count": 3
  },
  {
   "metadata": {},
   "cell_type": "markdown",
   "source": "Hier wird mit dem `to_pick` Dictionary definiert, welche Klassen kopiert werden sollen. Es wird immer geschaut, ob die Klasse existiert und dann in den Output Ordner kopiert.",
   "id": "eb52771c96c5c8a1"
  },
  {
   "metadata": {
    "ExecuteTime": {
     "end_time": "2024-06-18T11:44:39.711807Z",
     "start_time": "2024-06-18T11:44:39.700767Z"
    }
   },
   "cell_type": "code",
   "source": [
    "fish = wn.synsets(\"fish\")[0]\n",
    "bird = wn.synsets(\"bird\")[0]\n",
    "dog = wn.synsets(\"dog\")[0]\n",
    "snake = wn.synsets(\"snake\")[0]\n",
    "monkey = wn.synsets(\"monkey\")[0]\n",
    "lizard = wn.synsets(\"lizard\")[0]\n",
    "\n",
    "to_pick_1 = {\n",
    "    \"bird\": get_all_connected_synsets(bird, above=False),\n",
    "    \"dog\": get_all_connected_synsets(dog, above=False),\n",
    "}\n",
    "to_pick_2 = {\n",
    "    \"fish\": get_all_connected_synsets(fish, above=False),\n",
    "    \"snake\": get_all_connected_synsets(snake, above=False),\n",
    "    \"monkey\": get_all_connected_synsets(monkey, above=False),\n",
    "    \"lizard\": get_all_connected_synsets(lizard, above=False),\n",
    "}\n",
    "print(to_pick_1[\"bird\"])\n",
    "\n",
    "to_picks = [to_pick_1, to_pick_2]"
   ],
   "id": "8f4d5725d870803e",
   "outputs": [
    {
     "name": "stdout",
     "output_type": "stream",
     "text": [
      "[{'wnid': 'n01687665', 'name': 'agamid.n.01', 'lemma_names': ['agamid', 'agamid_lizard'], 'definition': 'a lizard of the family Agamidae'}, {'wnid': 'n01687978', 'name': 'agama.n.01', 'lemma_names': ['agama'], 'definition': 'small terrestrial lizard of warm regions of the Old World'}, {'wnid': 'n01688589', 'name': 'dragon.n.04', 'lemma_names': ['dragon', 'flying_dragon', 'flying_lizard'], 'definition': 'any of several small tropical Asian lizards capable of gliding by spreading winglike membranes on each side of the body'}, {'wnid': 'n01688243', 'name': 'frilled_lizard.n.01', 'lemma_names': ['frilled_lizard', 'Chlamydosaurus_kingi'], 'definition': 'large arboreal insectivorous Australian lizard with a ruff of skin around the neck'}, {'wnid': 'n01688961', 'name': 'moloch.n.03', 'lemma_names': ['moloch'], 'definition': 'any lizard of the genus Moloch'}, {'wnid': 'n01689081', 'name': 'mountain_devil.n.02', 'lemma_names': ['mountain_devil', 'spiny_lizard', 'Moloch_horridus'], 'definition': 'desert lizard that feeds on ants'}, {'wnid': 'n01689411', 'name': 'anguid_lizard.n.01', 'lemma_names': ['anguid_lizard'], 'definition': 'any of a small family of lizards widely distributed in warm areas; all are harmless and useful as destroyers of e.g. slugs and insects'}, {'wnid': 'n01689811', 'name': 'alligator_lizard.n.01', 'lemma_names': ['alligator_lizard'], 'definition': 'slim short-limbed lizard having a distinctive fold on each side that permits expansion; of western North America'}, {'wnid': 'n01690149', 'name': 'blindworm.n.01', 'lemma_names': ['blindworm', 'slowworm', 'Anguis_fragilis'], 'definition': 'small burrowing legless European lizard with tiny eyes; popularly believed to be blind'}, {'wnid': 'n01690466', 'name': 'glass_lizard.n.01', 'lemma_names': ['glass_lizard', 'glass_snake', 'joint_snake'], 'definition': 'snakelike lizard of Europe and Asia and North America with vestigial hind limbs and the ability to regenerate its long fragile tail'}, {'wnid': 'n01693783', 'name': 'chameleon.n.03', 'lemma_names': ['chameleon', 'chamaeleon'], 'definition': 'lizard of Africa and Madagascar able to change skin color and having a projectile tongue'}, {'wnid': 'n01694178', 'name': 'african_chameleon.n.01', 'lemma_names': ['African_chameleon', 'Chamaeleo_chamaeleon'], 'definition': 'a chameleon found in Africa'}, {'wnid': 'n01694311', 'name': 'horned_chameleon.n.01', 'lemma_names': ['horned_chameleon', 'Chamaeleo_oweni'], 'definition': 'a kind of chameleon'}, {'wnid': 'n01674990', 'name': 'gecko.n.01', 'lemma_names': ['gecko'], 'definition': 'any of various small chiefly tropical and usually nocturnal insectivorous terrestrial lizards typically with immovable eyelids; completely harmless'}, {'wnid': 'n01675722', 'name': 'banded_gecko.n.01', 'lemma_names': ['banded_gecko'], 'definition': 'any of several geckos with dark bands across the body and differing from typical geckos in having movable eyelids; of United States southwest and Florida Gulf Coast'}, {'wnid': 'n01675352', 'name': 'flying_gecko.n.01', 'lemma_names': ['flying_gecko', 'fringed_gecko', 'Ptychozoon_homalocephalum'], 'definition': 'a gecko that has membranous expansions along the sides of its body and limbs and tail that enable it to glide short distances'}, {'wnid': 'n01676755', 'name': 'iguanid.n.01', 'lemma_names': ['iguanid', 'iguanid_lizard'], 'definition': 'lizards of the New World and Madagascar and some Pacific islands; typically having a long tail and bright throat patch in males'}, {'wnid': 'n01682714', 'name': 'american_chameleon.n.01', 'lemma_names': ['American_chameleon', 'anole', 'Anolis_carolinensis'], 'definition': 'small arboreal tropical American insectivorous lizards with the ability to change skin color'}, {'wnid': 'n01682435', 'name': 'basilisk.n.03', 'lemma_names': ['basilisk'], 'definition': 'small crested arboreal lizard able to run on its hind legs; of tropical America'}, {'wnid': 'n01678343', 'name': 'chuckwalla.n.01', 'lemma_names': ['chuckwalla', 'Sauromalus_obesus'], 'definition': 'a herbivorous lizard that lives among rocks in the arid parts of southwestern United States and Mexico'}, {'wnid': 'n01679626', 'name': 'collared_lizard.n.01', 'lemma_names': ['collared_lizard'], 'definition': 'any of several robust long-tailed lizards with collars of two dark bands; of central and western United States and northern Mexico'}, {'wnid': 'n01677366', 'name': 'common_iguana.n.01', 'lemma_names': ['common_iguana', 'iguana', 'Iguana_iguana'], 'definition': 'large herbivorous tropical American arboreal lizards with a spiny crest along the back; used as human food in Central America and South America'}, {'wnid': 'n01678043', 'name': 'desert_iguana.n.01', 'lemma_names': ['desert_iguana', 'Dipsosaurus_dorsalis'], 'definition': 'small long-tailed lizard of arid areas of southwestern United States and northwestern Mexico'}, {'wnid': 'n01679307', 'name': 'earless_lizard.n.01', 'lemma_names': ['earless_lizard'], 'definition': 'any of several slender lizards without external ear openings: of plains of western United States and Mexico'}, {'wnid': 'n01679005', 'name': 'fringe-toed_lizard.n.01', 'lemma_names': ['fringe-toed_lizard', 'Uma_notata'], 'definition': 'with long pointed scales around toes; of deserts of United States and Mexico'}, {'wnid': 'n01681940', 'name': 'horned_lizard.n.01', 'lemma_names': ['horned_lizard', 'horned_toad', 'horny_frog'], 'definition': 'insectivorous lizard with hornlike spines on the head and spiny scales on the body; of western North America'}, {'wnid': 'n01682172', 'name': 'texas_horned_lizard.n.01', 'lemma_names': ['Texas_horned_lizard', 'Phrynosoma_cornutum'], 'definition': 'of arid and semiarid open country'}, {'wnid': 'n01679962', 'name': 'leopard_lizard.n.01', 'lemma_names': ['leopard_lizard'], 'definition': 'any of several large lizards with many dark spots; of western United States and northern Mexico'}, {'wnid': 'n01677747', 'name': 'marine_iguana.n.01', 'lemma_names': ['marine_iguana', 'Amblyrhynchus_cristatus'], 'definition': 'shore-dwelling seaweed-eating lizard of the Galapagos Islands'}, {'wnid': 'n01681328', 'name': 'side-blotched_lizard.n.01', 'lemma_names': ['side-blotched_lizard', 'sand_lizard', 'Uta_stansburiana'], 'definition': 'one of the most abundant lizards in the arid western United States'}, {'wnid': 'n01680264', 'name': 'spiny_lizard.n.02', 'lemma_names': ['spiny_lizard'], 'definition': 'any of numerous lizards with overlapping ridged pointed scales; of North America and Central America'}, {'wnid': 'n01680478', 'name': 'fence_lizard.n.01', 'lemma_names': ['fence_lizard'], 'definition': 'spiny lizard often seen basking on fences in the United States and northern Mexico'}, {'wnid': 'n01680813', 'name': 'eastern_fence_lizard.n.01', 'lemma_names': ['eastern_fence_lizard', 'pine_lizard', 'Sceloporus_undulatus'], 'definition': 'small active lizard of United States and north to British Columbia'}, {'wnid': 'n01680655', 'name': 'western_fence_lizard.n.01', 'lemma_names': ['western_fence_lizard', 'swift', 'blue-belly', 'Sceloporus_occidentalis'], 'definition': 'common western lizard; seen on logs or rocks'}, {'wnid': 'n01680983', 'name': 'sagebrush_lizard.n.01', 'lemma_names': ['sagebrush_lizard', 'Sceloporus_graciosus'], 'definition': 'a ground dweller that prefers open ground and scattered low bushes; of United States west between Rocky and Sierra Nevada Mountains'}, {'wnid': 'n01681653', 'name': 'tree_lizard.n.01', 'lemma_names': ['tree_lizard', 'Urosaurus_ornatus'], 'definition': 'a climbing lizard of western United States and northern Mexico'}, {'wnid': 'n01678657', 'name': 'zebra-tailed_lizard.n.01', 'lemma_names': ['zebra-tailed_lizard', 'gridiron-tailed_lizard', 'Callisaurus_draconoides'], 'definition': 'swift lizard with long black-banded tail and long legs; of deserts of United States and Mexico'}, {'wnid': 'n01692864', 'name': 'lacertid_lizard.n.01', 'lemma_names': ['lacertid_lizard', 'lacertid'], 'definition': 'Old World terrestrial lizard'}, {'wnid': 'n01693334', 'name': 'green_lizard.n.01', 'lemma_names': ['green_lizard', 'Lacerta_viridis'], 'definition': 'a common Eurasian lizard about a foot long'}, {'wnid': 'n01693175', 'name': 'sand_lizard.n.01', 'lemma_names': ['sand_lizard', 'Lacerta_agilis'], 'definition': 'a common and widely distributed lizard of Europe and central Asia'}, {'wnid': 'n01691652', 'name': 'lanthanotus_borneensis.n.01', 'lemma_names': ['Lanthanotus_borneensis'], 'definition': 'a stout-bodied pleurodont lizard of Borneo'}, {'wnid': 'n01691217', 'name': 'legless_lizard.n.01', 'lemma_names': ['legless_lizard'], 'definition': 'degenerate wormlike burrowing lizard of California closely related to alligator lizards'}, {'wnid': 'n01694709', 'name': 'monitor.n.07', 'lemma_names': ['monitor', 'monitor_lizard', 'varan'], 'definition': 'any of various large tropical carnivorous lizards of Africa and Asia and Australia; fabled to warn of crocodiles'}, {'wnid': 'n01694955', 'name': 'african_monitor.n.01', 'lemma_names': ['African_monitor', 'Varanus_niloticus'], 'definition': 'destroys crocodile eggs'}, {'wnid': 'n01695060', 'name': 'komodo_dragon.n.01', 'lemma_names': ['Komodo_dragon', 'Komodo_lizard', 'dragon_lizard', 'giant_lizard', 'Varanus_komodoensis'], 'definition': 'the largest lizard in the world (10 feet); found on Indonesian islands'}, {'wnid': 'n01683558', 'name': 'night_lizard.n.01', 'lemma_names': ['night_lizard'], 'definition': 'small secretive nocturnal lizard of southwestern North America and Cuba; bear live young'}, {'wnid': 'n01684133', 'name': 'skink.n.01', 'lemma_names': ['skink', 'scincid', 'scincid_lizard'], 'definition': 'alert agile lizard with reduced limbs and an elongated body covered with shiny scales; more dependent on moisture than most lizards; found in tropical regions worldwide'}, {'wnid': 'n01684741', 'name': 'mountain_skink.n.01', 'lemma_names': ['mountain_skink', 'Eumeces_callicephalus'], 'definition': 'frequents oak and pine habitats in rocky mountainous areas of United States southwest and Mexico'}, {'wnid': 'n01684578', 'name': 'western_skink.n.01', 'lemma_names': ['western_skink', 'Eumeces_skiltonianus'], 'definition': 'found in western North American grasslands and open woodlands'}, {'wnid': 'n01685439', 'name': 'teiid_lizard.n.01', 'lemma_names': ['teiid_lizard', 'teiid'], 'definition': 'tropical New World lizard with a long tail and large rectangular scales on the belly and a long tail'}, {'wnid': 'n01687290', 'name': 'caiman_lizard.n.01', 'lemma_names': ['caiman_lizard'], 'definition': 'crocodile-like lizard of South America having powerful jaws for crushing snails and mussels'}, {'wnid': 'n01687128', 'name': 'teju.n.01', 'lemma_names': ['teju'], 'definition': 'large (to 3 feet) blackish yellow-banded South American lizard; raid henhouses; used as food'}, {'wnid': 'n01685808', 'name': 'whiptail.n.01', 'lemma_names': ['whiptail', 'whiptail_lizard'], 'definition': 'any of numerous very agile and alert New World lizards'}, {'wnid': 'n01686808', 'name': 'checkered_whiptail.n.01', 'lemma_names': ['checkered_whiptail', 'Cnemidophorus_tesselatus'], 'definition': 'markings are darker and more marked than in western whiptail; from southeastern Colorado to eastern Chihuahua'}, {'wnid': 'n01686403', 'name': 'chihuahuan_spotted_whiptail.n.01', 'lemma_names': ['Chihuahuan_spotted_whiptail', 'Cnemidophorus_exsanguis'], 'definition': 'having longitudinal stripes overlaid with light spots; upland lizard of United States southwest and Mexico'}, {'wnid': 'n01686220', 'name': 'plateau_striped_whiptail.n.01', 'lemma_names': ['plateau_striped_whiptail', 'Cnemidophorus_velox'], 'definition': 'having distinct longitudinal stripes: of Colorado Plateau from Arizona to western Colorado'}, {'wnid': 'n01686044', 'name': 'racerunner.n.01', 'lemma_names': ['racerunner', 'race_runner', 'six-lined_racerunner', 'Cnemidophorus_sexlineatus'], 'definition': 'very swift lizard of eastern and central United States'}, {'wnid': 'n01686609', 'name': 'western_whiptail.n.01', 'lemma_names': ['western_whiptail', 'Cnemidophorus_tigris'], 'definition': 'active lizard having a network of dusky dark markings; of semiarid areas from Oregon and Idaho to Baja California'}, {'wnid': 'n01691951', 'name': 'venomous_lizard.n.01', 'lemma_names': ['venomous_lizard'], 'definition': 'any of two or three large heavy-bodied lizards; only known venomous lizards'}, {'wnid': 'n01692523', 'name': 'beaded_lizard.n.01', 'lemma_names': ['beaded_lizard', 'Mexican_beaded_lizard', 'Heloderma_horridum'], 'definition': 'lizard with black and yellowish beadlike scales; of western Mexico'}, {'wnid': 'n01692333', 'name': 'gila_monster.n.01', 'lemma_names': ['Gila_monster', 'Heloderma_suspectum'], 'definition': 'large orange and black lizard of southwestern United States; not dangerous unless molested'}, {'wnid': 'n01683201', 'name': 'worm_lizard.n.01', 'lemma_names': ['worm_lizard'], 'definition': 'a lizard of the genus Amphisbaena; harmless wormlike limbless lizard of warm or tropical regions having concealed eyes and ears and a short blunt tail'}]\n"
     ]
    }
   ],
   "execution_count": 8
  },
  {
   "metadata": {},
   "cell_type": "code",
   "source": [
    "for i, to_pick in enumerate(to_picks):\n",
    "    OUTPUT_FOLDER = f\"synset_processed_{i}\"\n",
    "    image_counts = {category: 0 for category in to_pick.keys()}\n",
    "    for category in to_pick.keys():\n",
    "        for synset_dict in to_pick[category]:\n",
    "            # check if images exist\n",
    "            candidate_path = os.path.join(IMAGE_DATA_FOLDER, synset_dict[\"wnid\"])\n",
    "            if not os.path.exists(candidate_path):\n",
    "                print(\n",
    "                    f\"Class {synset_dict['wnid']} ({category}) does not exist in the dataset, skipping....\"\n",
    "                )\n",
    "                continue\n",
    "\n",
    "            # Count images in the directory\n",
    "            num_images = len(os.listdir(candidate_path))\n",
    "            image_counts[category] += num_images\n",
    "\n",
    "            # copy images\n",
    "            images_dest = os.path.join(OUTPUT_FOLDER, \"images\", category)\n",
    "            shutil.copytree(candidate_path, images_dest, dirs_exist_ok=True)\n",
    "            print(\n",
    "                f\"Images for class {synset_dict['wnid']} ({category}) copied to output\"\n",
    "            )\n",
    "\n",
    "    # Output the image counts for each category\n",
    "    for category, count in image_counts.items():\n",
    "        print(f\"Total images for category {category}: {count}\")\n",
    "\n",
    "    # sample down\n",
    "    for category in to_pick.keys():\n",
    "        folder_path = os.path.join(OUTPUT_FOLDER, \"images\", category)\n",
    "        if os.path.exists(folder_path):\n",
    "            images = os.listdir(folder_path)\n",
    "            if len(images) > MAX_IMAGES_PER_CLASS:\n",
    "                # Randomly select images to delete\n",
    "                to_delete = random.sample(images, len(images) - MAX_IMAGES_PER_CLASS)\n",
    "                for image in to_delete:\n",
    "                    os.remove(os.path.join(folder_path, image))\n",
    "\n",
    "    # copy mapping files\n",
    "    shutil.copy(\n",
    "        os.path.join(BASE_FOLDER, \"LOC_synset_mapping.txt\"),\n",
    "        os.path.join(OUTPUT_FOLDER, \"LOC_synset_mapping.txt\"),\n",
    "    )\n",
    "    # Copy localization files\n",
    "    shutil.copy(\n",
    "        os.path.join(BASE_FOLDER, \"LOC_train_solution.csv\"),\n",
    "        os.path.join(OUTPUT_FOLDER, \"LOC_train_solution.csv\"),\n",
    "    )\n",
    "    print(\"Copied annotation files to output\")\n",
    "\n",
    "    print(\"Creating zip archive...\")\n",
    "    # create zip archive\n",
    "    shutil.make_archive(OUTPUT_FOLDER, \"zip\", OUTPUT_FOLDER)\n",
    "    # remove the output folder\n",
    "    shutil.rmtree(OUTPUT_FOLDER)\n",
    "    print(\"Done!\")"
   ],
   "id": "bff22cd418da8159",
   "outputs": [],
   "execution_count": null
  }
 ],
 "metadata": {
  "kernelspec": {
   "display_name": "Python 3",
   "language": "python",
   "name": "python3"
  },
  "language_info": {
   "codemirror_mode": {
    "name": "ipython",
    "version": 2
   },
   "file_extension": ".py",
   "mimetype": "text/x-python",
   "name": "python",
   "nbconvert_exporter": "python",
   "pygments_lexer": "ipython2",
   "version": "2.7.6"
  }
 },
 "nbformat": 4,
 "nbformat_minor": 5
}
